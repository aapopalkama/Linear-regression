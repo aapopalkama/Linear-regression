{
 "cells": [
  {
   "cell_type": "markdown",
   "metadata": {},
   "source": [
    "# A simple linear regression model using Helsinki housing market data"
   ]
  },
  {
   "cell_type": "markdown",
   "metadata": {},
   "source": [
    "* The data is collected from the oikotie.fi website. I have made a restapi if you want to use the data go to the my github page: https://github.com/aapopalkama/oikotie-helsinki-restapi or directly from the restapi link: https://oikotie-helsinki-restapi.herokuapp.com/ "
   ]
  },
  {
   "cell_type": "markdown",
   "metadata": {},
   "source": [
    "* Necessary libraries\n"
   ]
  },
  {
   "cell_type": "code",
   "execution_count": 1,
   "metadata": {},
   "outputs": [],
   "source": [
    "import numpy as np\n",
    "import matplotlib.pyplot as plt\n",
    "import requests\n",
    "import pandas as pd"
   ]
  },
  {
   "cell_type": "markdown",
   "metadata": {},
   "source": [
    "* Data retrieval and preparation"
   ]
  },
  {
   "cell_type": "code",
   "execution_count": 2,
   "metadata": {},
   "outputs": [
    {
     "data": {
      "text/plain": [
       "array([[7.2500e+01, 2.9525e+05],\n",
       "       [2.3500e+01, 1.9300e+05],\n",
       "       [1.1600e+02, 2.9900e+05],\n",
       "       ...,\n",
       "       [1.1440e+02, 9.9700e+05],\n",
       "       [5.5000e+01, 3.6990e+05],\n",
       "       [6.8000e+01, 2.8900e+05]])"
      ]
     },
     "execution_count": 2,
     "metadata": {},
     "output_type": "execute_result"
    }
   ],
   "source": [
    "#   Helsinki housing market data from oikotie.fi. \n",
    "data = requests.get('https://oikotie-helsinki-restapi.herokuapp.com/').json()\n",
    "df = pd.DataFrame.from_dict(data)\n",
    "df = df[[\"Asuinpinta-ala\",\"Velaton hinta\"]]\n",
    "#   Aparments smaller than 150 square meters\n",
    "df = df[df[\"Asuinpinta-ala\"] < 150]\n",
    "\n",
    "#   Drop if Nan value\n",
    "df.dropna(subset = [\"Asuinpinta-ala\"], inplace=True)\n",
    "\n",
    "#   Dataframe to numpy array\n",
    "data = df.to_numpy()\n",
    "data\n",
    "\n"
   ]
  },
  {
   "cell_type": "markdown",
   "metadata": {},
   "source": [
    "* Define x and y values for model"
   ]
  },
  {
   "cell_type": "code",
   "execution_count": 3,
   "metadata": {},
   "outputs": [
    {
     "name": "stdout",
     "output_type": "stream",
     "text": [
      "(6218, 2)\n"
     ]
    },
    {
     "data": {
      "text/plain": [
       "(6218, 1)"
      ]
     },
     "execution_count": 3,
     "metadata": {},
     "output_type": "execute_result"
    }
   ],
   "source": [
    "x = data[:,0]\n",
    "y = data[:,1].reshape(x.size, 1)\n",
    "x = np.vstack((np.ones((x.size)), x)).T\n",
    "print(x.shape)\n",
    "y.shape\n",
    "\n"
   ]
  },
  {
   "cell_type": "markdown",
   "metadata": {},
   "source": [
    "* Scatterplot\n",
    "* The x axis is the sie of the apartment and the y axis is the price"
   ]
  },
  {
   "cell_type": "code",
   "execution_count": 4,
   "metadata": {},
   "outputs": [
    {
     "data": {
      "image/png": "[encoded data removed]",
      "text/plain": [
       "<Figure size 432x288 with 1 Axes>"
      ]
     },
     "metadata": {
      "needs_background": "light"
     },
     "output_type": "display_data"
    }
   ],
   "source": [
    "plt.scatter(x[:,1], y)\n",
    "plt.show()"
   ]
  },
  {
   "cell_type": "markdown",
   "metadata": {},
   "source": [
    "* Iterations and learning rate"
   ]
  },
  {
   "cell_type": "code",
   "execution_count": 5,
   "metadata": {},
   "outputs": [],
   "source": [
    "# Iterates as many times as there are apartments\n",
    "iteration = len(df[\"Asuinpinta-ala\"].to_list())\n",
    "learning_rate = 0.00000005"
   ]
  },
  {
   "cell_type": "markdown",
   "metadata": {},
   "source": [
    "# Lets build our model\n",
    "\n",
    "\n"
   ]
  },
  {
   "cell_type": "code",
   "execution_count": 6,
   "metadata": {},
   "outputs": [],
   "source": [
    "def model(x,y,learning_rate, iteration):   \n",
    "    m = y.size\n",
    "    theta = np.zeros((2,1))\n",
    "    for i in range(iteration):   \n",
    "#       Cost Function    \n",
    "        y_pred = np.dot(x, theta)           \n",
    "#       Gradient Descent  \n",
    "        d_theta = (1/m)*np.dot(x.T, y_pred-1)\n",
    "        theta = (theta - learning_rate*d_theta)\n",
    "    return theta"
   ]
  },
  {
   "cell_type": "markdown",
   "metadata": {},
   "source": [
    "* Now we can study and predict the price of an apartment by squares\n",
    "* Lets try sizes 20, 25, 30, 53, 67 and 100"
   ]
  },
  {
   "cell_type": "code",
   "execution_count": 7,
   "metadata": {},
   "outputs": [],
   "source": [
    "sizes = [[1,20],[1,25],[1,30],[1,53],[1,67],[1,100]]"
   ]
  },
  {
   "cell_type": "code",
   "execution_count": 8,
   "metadata": {},
   "outputs": [
    {
     "name": "stdout",
     "output_type": "stream",
     "text": [
      "The price of an apartment of 20 m^2 is around 210000.0 €\n",
      "The price of an apartment of 25 m^2 is around 260000.0 €\n",
      "The price of an apartment of 30 m^2 is around 310000.0 €\n",
      "The price of an apartment of 53 m^2 is around 550000.0 €\n",
      "The price of an apartment of 67 m^2 is around 700000.0 €\n",
      "The price of an apartment of 100 m^2 is around 1040000.0 €\n"
     ]
    }
   ],
   "source": [
    "# Connect to function\n",
    "theta = model(x,y,learning_rate=learning_rate, iteration=iteration)\n",
    "house_prediction = np.array(sizes)\n",
    "for house in house_prediction:\n",
    "    print(\"The price of an apartment of\",house[1], \"m^2 is around\",(round(np.dot(house, theta)[0],2)*10**6),\"€\")\n",
    "\n"
   ]
  },
  {
   "cell_type": "markdown",
   "metadata": {},
   "source": [
    "* Prices seem \"pretty\" reasonable considering how simple the model is. The price forecast is based on the prices of current and sold apartments in Helsinki after January 2022"
   ]
  }
 ],
 "metadata": {
  "interpreter": {
   "hash": "960e26d6a536eec7cd0c3b90ac51e4586ccbc60514dbc1f37b83b8b8bc4322c5"
  },
  "kernelspec": {
   "display_name": "env2",
   "language": "python",
   "name": "env2"
  },
  "language_info": {
   "codemirror_mode": {
    "name": "ipython",
    "version": 3
   },
   "file_extension": ".py",
   "mimetype": "text/x-python",
   "name": "python",
   "nbconvert_exporter": "python",
   "pygments_lexer": "ipython3",
   "version": "3.9.7"
  },
  "orig_nbformat": 4
 },
 "nbformat": 4,
 "nbformat_minor": 2
}
